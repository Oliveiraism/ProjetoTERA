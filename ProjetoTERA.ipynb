{
  "nbformat": 4,
  "nbformat_minor": 0,
  "metadata": {
    "colab": {
      "provenance": [],
      "authorship_tag": "ABX9TyOo7t2upXOO4MNX1NLnSde0",
      "include_colab_link": true
    },
    "kernelspec": {
      "name": "python3",
      "display_name": "Python 3"
    },
    "language_info": {
      "name": "python"
    }
  },
  "cells": [
    {
      "cell_type": "markdown",
      "metadata": {
        "id": "view-in-github",
        "colab_type": "text"
      },
      "source": [
        "<a href=\"https://colab.research.google.com/github/Oliveiraism/ProjetoTERA/blob/main/ProjetoTERA.ipynb\" target=\"_parent\"><img src=\"https://colab.research.google.com/assets/colab-badge.svg\" alt=\"Open In Colab\"/></a>"
      ]
    },
    {
      "cell_type": "code",
      "execution_count": 1,
      "metadata": {
        "id": "GP0wO-Kl-SQg"
      },
      "outputs": [],
      "source": [
        "import pandas as pd               ## Biblioteca Pandas\n",
        "from google.colab import drive    ## Biblioteca para utilizar os diretórios do Drive\n",
        "import os                         ## Biblioteca para navegar nos diretorios"
      ]
    },
    {
      "cell_type": "code",
      "source": [
        "##Montando o diretório do Drive\n",
        "drive.flush_and_unmount()\n",
        "drive.mount('/content/drive')"
      ],
      "metadata": {
        "colab": {
          "base_uri": "https://localhost:8080/"
        },
        "id": "vxSrC8aUB9Ii",
        "outputId": "e8ece411-719a-418e-e76a-4cd9535728aa"
      },
      "execution_count": 2,
      "outputs": [
        {
          "output_type": "stream",
          "name": "stdout",
          "text": [
            "Mounted at /content/drive\n"
          ]
        }
      ]
    },
    {
      "cell_type": "code",
      "source": [
        "##criando e/ou acessando o diretório onde serão baixados os arquivos de base\n",
        "diretorio_atual = os.getcwd()\n",
        "if diretorio_atual == '/content/drive/MyDrive/ProjetoTERA/Dados':\n",
        "  print('ok')\n",
        "  pass\n",
        "else:\n",
        "  try:\n",
        "      print('Acessando diretório')\n",
        "      os.chdir('/content/drive/MyDrive/ProjetoTERA/Dados/')\n",
        "      diretorio_atual = os.getcwd()\n",
        "\n",
        "  except:\n",
        "    os.mkdir('/content/drive/MyDrive/ProjetoTERA/Dados')\n",
        "\n",
        "print(f'você está em: {os.getcwd()}')"
      ],
      "metadata": {
        "id": "XEmx0LiJGxQI",
        "colab": {
          "base_uri": "https://localhost:8080/"
        },
        "outputId": "c76ae5e2-4d29-47dd-de06-cb09a430863c"
      },
      "execution_count": 10,
      "outputs": [
        {
          "output_type": "stream",
          "name": "stdout",
          "text": [
            "ok\n",
            "você está em: /content/drive/MyDrive/ProjetoTERA/Dados\n"
          ]
        }
      ]
    },
    {
      "cell_type": "code",
      "source": [
        "os.getcwd()"
      ],
      "metadata": {
        "colab": {
          "base_uri": "https://localhost:8080/",
          "height": 35
        },
        "id": "RQO-bBU8LQ2j",
        "outputId": "74fdfaf9-9136-412e-b5f6-e75b7efa4822"
      },
      "execution_count": 8,
      "outputs": [
        {
          "output_type": "execute_result",
          "data": {
            "text/plain": [
              "'/content/drive/MyDrive/ProjetoTERA/Dados'"
            ],
            "application/vnd.google.colaboratory.intrinsic+json": {
              "type": "string"
            }
          },
          "metadata": {},
          "execution_count": 8
        }
      ]
    },
    {
      "cell_type": "code",
      "source": [],
      "metadata": {
        "id": "Lj0gFcr6L-IB"
      },
      "execution_count": null,
      "outputs": []
    }
  ]
}